{
 "cells": [
  {
   "cell_type": "code",
   "execution_count": null,
   "id": "ef65896d",
   "metadata": {},
   "outputs": [],
   "source": [
    "# agent workflow (where agents deal wit heach other)\n",
    "# use of TOOLS to call functions\n",
    "# agen collaboration via TOOLS and HANDOFFS"
   ]
  },
  {
   "cell_type": "code",
   "execution_count": null,
   "id": "35e99da9",
   "metadata": {},
   "outputs": [],
   "source": [
    "from dotenv import load_dotenv\n",
    "from agents import Agent, Runner, trace, function_tool\n",
    "from openai.types.responses import ResponseTextDeltaEvent\n",
    "import sendgrid\n",
    "from sendgrid.helpers.mail import Mail, Email, To, Content\n",
    "import asyncio\n",
    "import os"
   ]
  },
  {
   "cell_type": "code",
   "execution_count": null,
   "id": "617e8db7",
   "metadata": {},
   "outputs": [],
   "source": [
    "load_dotenv(override=True)"
   ]
  },
  {
   "cell_type": "code",
   "execution_count": null,
   "id": "7f922172",
   "metadata": {},
   "outputs": [],
   "source": [
    "# Let's just check emails are working for you\n",
    "\n",
    "def send_test_email():\n",
    "    sg = sendgrid.SendGridAPIClient(api_key=os.environ.get('SENDGRID_API_KEY'))\n",
    "    from_email = Email(\"hello@priyanshukhandelwal.com\")  # Change to your verified sender\n",
    "    to_email = To(\"udemy@priyanshukhandelwal.com\")  # Change to your recipient\n",
    "    content = Content(\"text/plain\", \"This is an important test email\")\n",
    "    mail = Mail(from_email, to_email, \"Test email\", content).get()\n",
    "    response = sg.client.mail.send.post(request_body=mail)\n",
    "    print(response.status_code)\n",
    "\n",
    "send_test_email()"
   ]
  },
  {
   "cell_type": "code",
   "execution_count": null,
   "id": "09269ae2",
   "metadata": {},
   "outputs": [],
   "source": [
    "# lets see if email are working\n",
    "def send_email():\n",
    "    sg_client = sendgrid.SendGridAPIClient(api_key=os.getenv(\"SENDGRID_API_KEY\"))\n",
    "    from_email = Email(\"hello@priyanshukhandelwal.com\")\n",
    "    to_email = To(\"udemy@priyanshukhandelwal.com\")\n",
    "    subject = \"Test Email from SendGrid\"\n",
    "    content = Content(\"text/plain\", \"This is a test email sent using SendGrid.\")\n",
    "    mail = Mail(from_email, to_email, subject, content).get()\n",
    "    print(mail)\n",
    "    response = sg_client.send(mail)\n",
    "    print(f\"Email sent with status code: {response.status_code}\")\n",
    "send_email()"
   ]
  },
  {
   "cell_type": "markdown",
   "id": "3480a822",
   "metadata": {},
   "source": [
    "# Setting up agentic flow with 3 agents"
   ]
  },
  {
   "cell_type": "code",
   "execution_count": null,
   "id": "af72d9d8",
   "metadata": {},
   "outputs": [],
   "source": [
    "instructions1 = '''You are sales agent working for DeepAI, \n",
    "    a company that provides help to other software companies by enhancing their\n",
    "    legacy systems with current AI approaches, powered by AI. You write professional, serious\n",
    "    cold emails '''\n",
    "\n",
    "instructions2 = '''You are humorous funny sales agent working for DeepAI, \n",
    "    a company that provides help to other software companies by enhancing their\n",
    "    legacy systems with current AI approaches, powered by AI. You write professional, likely to get response\n",
    "    cold emails '''\n",
    "\n",
    "instructions3 = '''You are busy sales agent working for DeepAI, \n",
    "    a company that provides help to other software companies by enhancing their\n",
    "    legacy systems with current AI approaches, powered by AI. You write professional and concise emails\n",
    "'''\n",
    "\n",
    "agent1 = Agent(name=\"Agent 1\", instructions=instructions1, model=\"gpt-4o-mini\")\n",
    "agent2 = Agent(name=\"Agent 2\", instructions=instructions2, model=\"gpt-4o-mini\")\n",
    "agent3 = Agent(name=\"Agent 3\", instructions=instructions3, model=\"gpt-4o-mini\")\n"
   ]
  },
  {
   "cell_type": "code",
   "execution_count": null,
   "id": "46e95408",
   "metadata": {},
   "outputs": [],
   "source": [
    "runner = Runner()\n",
    "result = await runner.run(agent3, \"Write a cold email\")"
   ]
  },
  {
   "cell_type": "code",
   "execution_count": null,
   "id": "7f61a563",
   "metadata": {},
   "outputs": [],
   "source": [
    "print(result.final_output)"
   ]
  },
  {
   "cell_type": "code",
   "execution_count": null,
   "id": "44c5c2ef",
   "metadata": {},
   "outputs": [],
   "source": [
    "result = Runner.run_streamed(agent3, \"Write a cold email only 30 words\")\n",
    "async for event in result.stream_events():\n",
    "    # moving from left to right\n",
    "    if event.type == \"raw_response_event\" and isinstance(event.data, ResponseTextDeltaEvent):\n",
    "        print(event.data.delta, end=\"\", flush=True)\n",
    "\n",
    "# runner.run\n",
    "# runner.run_streamed\n",
    "# event.type\n",
    "# multiple instances of event data"
   ]
  },
  {
   "cell_type": "code",
   "execution_count": null,
   "id": "4fdac7e9",
   "metadata": {},
   "outputs": [],
   "source": [
    "message = \"Write a cold email max words allowed is 100\"\n",
    "\n",
    "with trace(\"Parallel Code Emails\"):\n",
    "    results = await asyncio.gather(\n",
    "        Runner.run(agent1, message),\n",
    "        Runner.run(agent2, message),\n",
    "        Runner.run(agent3, message)\n",
    "    )"
   ]
  },
  {
   "cell_type": "code",
   "execution_count": null,
   "id": "994ecc1e",
   "metadata": {},
   "outputs": [],
   "source": [
    "outputs = [result.final_output for result in results]"
   ]
  },
  {
   "cell_type": "code",
   "execution_count": null,
   "id": "b4937844",
   "metadata": {},
   "outputs": [],
   "source": [
    "for output in outputs:\n",
    "    print(output)\n",
    "    print(\"-----\")\n"
   ]
  },
  {
   "cell_type": "code",
   "execution_count": null,
   "id": "64a8b30c",
   "metadata": {},
   "outputs": [],
   "source": [
    "mail_picker = Agent(\n",
    "    name = \"mail-picker\",\n",
    "    instructions = \"Your duty is to pick the best email from the list of emails. You should select only one email to which you are likely to respond best. Don't give any explanation; just respond with the selected email\",\n",
    "    model = \"gpt-4o-mini\"\n",
    ")"
   ]
  },
  {
   "cell_type": "code",
   "execution_count": null,
   "id": "f4b53839",
   "metadata": {},
   "outputs": [],
   "source": [
    "runner_selector = Runner()\n",
    "result = await runner_selector.run(mail_picker, '_______'.join(outputs)  )\n",
    "print(result.final_output)"
   ]
  },
  {
   "cell_type": "code",
   "execution_count": null,
   "id": "140a09f6",
   "metadata": {},
   "outputs": [],
   "source": [
    "# Lets put it all together\n",
    "# 3 agents to generate 3 types of email\n",
    "# 1 agent to select the best email\n",
    "\n",
    "instructions1 = instructions1\n",
    "instructions2 = instructions2\n",
    "instructions3 = instructions3\n",
    "instructions_mail_picker = \"Your duty is to pick the best email from the list of emails. You should select only one email to which you are likely to respond best. Don't give any explanation; just respond with the selected email\"\n",
    "\n",
    "agent1 = Agent(name=\"Agent 1\", instructions=instructions1, model=\"gpt-4o-mini\")\n",
    "agent2 = Agent(name=\"Agent 2\", instructions=instructions2, model=\"gpt-4o-mini\")\n",
    "agent3 = Agent(name=\"Agent 3\", instructions=instructions3, model=\"gpt-4o-mini\")\n",
    "mail_picker_agent = Agent(name = 'Agent mail picker', instructions = instructions_mail_picker, model = \"gpt-4o-mini\")\n",
    "\n",
    "with trace(\"Generate and pick cold email\"):\n",
    "    results = await asyncio.gather(\n",
    "        Runner.run(agent1, \"Write a cold email\"),\n",
    "        Runner.run(agent2, \"Write a cold email\"),\n",
    "        Runner.run(agent3, \"Write a cold email\"),\n",
    "    )\n",
    "    outputs = [result.final_output for result in results]\n",
    "\n",
    "    final_combined_output = \"____________\".join(outputs)\n",
    "\n",
    "    selected_email = await Runner.run(mail_picker_agent, final_combined_output)\n",
    "\n",
    "    print(selected_email.final_output)\n"
   ]
  },
  {
   "cell_type": "markdown",
   "id": "4796369d",
   "metadata": {},
   "source": [
    "# Using Tools"
   ]
  },
  {
   "cell_type": "code",
   "execution_count": null,
   "id": "2b9e2dc0",
   "metadata": {},
   "outputs": [],
   "source": [
    "agent1 = Agent(name=\"Professional agent\", instructions=instructions1, model=\"gpt-4o-mini\")\n",
    "agent2 = Agent(name=\"Funny agent\", instructions=instructions2, model=\"gpt-4o-mini\")\n",
    "agent3 = Agent(name=\"Concise agent\", instructions=instructions3, model=\"gpt-4o-mini\")"
   ]
  },
  {
   "cell_type": "code",
   "execution_count": null,
   "id": "dbcd3642",
   "metadata": {},
   "outputs": [],
   "source": [
    "@function_tool\n",
    "def send_email(body):\n",
    "    sg_client = sendgrid.SendGridAPIClient(api_key=os.environ.get('SENDGRID_API_KEY'))\n",
    "    from_email = Email(\"hello@priyanshukhandelwal.com\")\n",
    "    to_email = To(\"udemy@priyanshukhandelwal.com\")\n",
    "    content = Content(\"text/plain\", body)\n",
    "    subject = \"Test Email from SendGrid\"\n",
    "    mail = Mail(from_email, to_email, subject, content).get()\n",
    "    response = sg_client.send(mail)\n",
    "    print(f\"Email sent with status code: {response.status_code}\")\n"
   ]
  },
  {
   "cell_type": "code",
   "execution_count": null,
   "id": "26a2aafc",
   "metadata": {},
   "outputs": [],
   "source": [
    "send_email('hello pk pk pk')"
   ]
  },
  {
   "cell_type": "markdown",
   "id": "87d7b2b6",
   "metadata": {},
   "source": [
    "-------------"
   ]
  },
  {
   "cell_type": "markdown",
   "id": "9ffbdf7a",
   "metadata": {},
   "source": [
    "## Understanding decorators"
   ]
  },
  {
   "cell_type": "markdown",
   "id": "d8e1128f",
   "metadata": {},
   "source": [
    "In Python, a decorator is a special type of function that can modify or extend the behavior of another function. A decorator is a function that **takes another function as an argument** and returns a new function that \"wraps\" the original function."
   ]
  },
  {
   "cell_type": "code",
   "execution_count": null,
   "id": "60c0d5d3",
   "metadata": {},
   "outputs": [],
   "source": [
    "def my_decorator(func):\n",
    "    def wrapper():\n",
    "        print(\"Something is happening before the function is called.\")\n",
    "        func()\n",
    "        print(\"Something is happening after the function is called.\")\n",
    "    return wrapper\n",
    "\n",
    "@my_decorator\n",
    "def say_hello():\n",
    "    print(\"Hello!\")\n",
    "\n",
    "say_hello()"
   ]
  },
  {
   "cell_type": "markdown",
   "id": "5ca67062",
   "metadata": {},
   "source": [
    "In this example, the my_decorator function is a decorator that takes the say_hello function as an argument. The my_decorator function returns a new function called wrapper, which \"wraps\" the original say_hello function.\n",
    "\n",
    "When we call say_hello(), we're actually calling the wrapper function returned by the my_decorator. The wrapper function calls the original say_hello function, but also adds some extra behavior before and after the call.\n",
    "\n",
    "Decorators are often used to:\n",
    "\n",
    " - Add logging or debugging functionality to a function\n",
    " - Implement authentication or authorization checks\n",
    " - Measure the execution time of a function\n",
    " - Cache the results of a function\n",
    " - And many other use cases!\n",
    "\n",
    " The @ symbol is used to indicate that a function is a decorator. When we use the @ symbol before a function, it's equivalent to calling the decorator function with the original function as an argument.\n",
    " \n",
    "----------"
   ]
  },
  {
   "cell_type": "code",
   "execution_count": null,
   "id": "ae96d8ae",
   "metadata": {},
   "outputs": [],
   "source": [
    "import logging\n",
    "import functools\n",
    "\n",
    "# Set up logging\n",
    "logging.basicConfig(level=logging.INFO)\n",
    "\n",
    "def log_calls(func):\n",
    "    @functools.wraps(func)\n",
    "    def wrapper(*args, **kwargs):\n",
    "        logging.info(f\"Calling {func.__name__} with arguments {args} and {kwargs}\")\n",
    "        result = func(*args, **kwargs)\n",
    "        logging.info(f\"{func.__name__} returned {result}\")\n",
    "        return result\n",
    "    return wrapper\n",
    "\n",
    "@log_calls\n",
    "def add(a, b):\n",
    "    return a + b\n",
    "\n",
    "result = add(2, 3)\n",
    "\n",
    "add(10,200)"
   ]
  },
  {
   "cell_type": "markdown",
   "id": "b4c031a7",
   "metadata": {},
   "source": [
    "## Using Tools Continue.."
   ]
  },
  {
   "cell_type": "markdown",
   "id": "694c5725",
   "metadata": {},
   "source": [
    "#### READ THIS:\n",
    "Yes, that makes sense. By adding the str type hint to the body parameter, you're explicitly defining the schema for the send_email function.\n",
    "\n",
    "In this case, the error message was indicating that the schema for the send_email function was missing a type key. By adding the str type hint, you're providing the necessary information to define the schema for the body parameter.\n",
    "\n",
    "This is a good example of how type hints can be used to provide additional metadata about the structure and schema of your code. In this case, the type hint is being used to define the schema for the send_email function, which is then used by the underlying framework or library to validate the input data.\n",
    "\n",
    "It's also worth noting that this is a good example of how a small change can make a big difference in the behavior of your code. In this case, adding a single type hint (str) was enough to resolve the error and get the code working correctly."
   ]
  },
  {
   "cell_type": "code",
   "execution_count": null,
   "id": "c575657b",
   "metadata": {},
   "outputs": [],
   "source": [
    "@function_tool\n",
    "def send_email(body: str): ## Adding str is very very very important\n",
    "    sg_client = sendgrid.SendGridAPIClient(api_key=os.environ.get('SENDGRID_API_KEY'))\n",
    "    from_email = Email(\"hello@priyanshukhandelwal.com\")\n",
    "    to_email = To(\"udemy@priyanshukhandelwal.com\")\n",
    "    content = Content(\"text/plain\", body)\n",
    "    subject = \"Test Email from SendGrid\"\n",
    "    mail = Mail(from_email, to_email, subject, content).get()\n",
    "    response = sg_client.send(mail)\n",
    "    print(f\"Email sent with status code: {response.status_code}\")"
   ]
  },
  {
   "cell_type": "code",
   "execution_count": null,
   "id": "2cc2f615",
   "metadata": {},
   "outputs": [],
   "source": [
    "send_email"
   ]
  },
  {
   "cell_type": "markdown",
   "id": "55a14a82",
   "metadata": {},
   "source": [
    "**^^^^^^ This is how functions are converted to TOOL ^^^^^^^^**"
   ]
  },
  {
   "cell_type": "code",
   "execution_count": null,
   "id": "6c521027",
   "metadata": {},
   "outputs": [],
   "source": [
    "tool1 = agent1.as_tool(tool_name='tool_agent_1',\n",
    "                        tool_description = 'Write a cold email',)"
   ]
  },
  {
   "cell_type": "markdown",
   "id": "733cca53",
   "metadata": {},
   "source": [
    "**^^^^^^^This is how agents are converted to TOOL^^^^^^^^^^**"
   ]
  },
  {
   "cell_type": "markdown",
   "id": "871d8337",
   "metadata": {},
   "source": [
    "### Using all together to crreate tool list and converting all agents to tools.\n",
    "Because ultimately our email_picker is using three agents indirectly as tool only"
   ]
  },
  {
   "cell_type": "code",
   "execution_count": null,
   "id": "ecf0ce05",
   "metadata": {},
   "outputs": [],
   "source": [
    "agent1"
   ]
  },
  {
   "cell_type": "code",
   "execution_count": null,
   "id": "166a3aea",
   "metadata": {},
   "outputs": [],
   "source": [
    "description_for_mail_generation = \"Write a cold email\"\n",
    "tool1 = agent1.as_tool(tool_name='agent1', tool_description=description_for_mail_generation)\n",
    "tool2 = agent2.as_tool(tool_name='agent2', tool_description=description_for_mail_generation)\n",
    "tool3 = agent3.as_tool(tool_name='agent3', tool_description=description_for_mail_generation)\n",
    "send_email_tool = send_email # which is essentially a function tool decorated with @function_tool\n",
    "tools = [tool1, tool2, tool3, send_email_tool]"
   ]
  },
  {
   "cell_type": "markdown",
   "id": "f6707946",
   "metadata": {},
   "source": [
    "## Now its time for our Sales Manager to email the client (select from agents and send using tools) "
   ]
  },
  {
   "cell_type": "code",
   "execution_count": null,
   "id": "64797e04",
   "metadata": {},
   "outputs": [],
   "source": [
    "send_email_tool == send_email"
   ]
  },
  {
   "cell_type": "code",
   "execution_count": null,
   "id": "59a3afce",
   "metadata": {},
   "outputs": [],
   "source": [
    "print(sales_manager_agent)"
   ]
  },
  {
   "cell_type": "code",
   "execution_count": null,
   "id": "8f434f8b",
   "metadata": {},
   "outputs": [],
   "source": [
    "sales_manager_instructions = '''\n",
    "You are sales manager working for DeepAI. You use the tools give to you to generate cold emails.\n",
    "You never generate sales emails by yourself; you always use tools.\n",
    "You try all 3 agent_tools once before choosing the best one. You can use tools iteratively untill you find a best email to send.\n",
    "You pick the single best email and use send_email_tool to send the best email to the user.\n",
    "'''\n",
    "\n",
    "sales_manager_agent = Agent(name=\"Sales Manager\", instructions=sales_manager_instructions, model=\"gpt-4o-mini\", tools=tools)\n",
    "message = 'Send a col email addressed to Dear Senior Head of AI'\n",
    "with trace(\"Generate, select and send email: Sales Manager Agent\"):\n",
    "    result = await Runner.run(sales_manager_agent, message)\n",
    "    print(result.final_output)"
   ]
  },
  {
   "cell_type": "code",
   "execution_count": null,
   "id": "1be5aa45",
   "metadata": {},
   "outputs": [],
   "source": [
    "# test_agent = Agent(name='query_resolver', instructions='resolve_query', model='gpt-4o-mini')\n",
    "# result = await Runner.run(test_agent, 'convert 800 crore inr to usd, and give me only final answer')\n",
    "# print(result.final_output)"
   ]
  },
  {
   "cell_type": "markdown",
   "id": "c11bded0",
   "metadata": {},
   "source": [
    "# Using handoffs"
   ]
  },
  {
   "cell_type": "markdown",
   "id": "7852ee4e",
   "metadata": {},
   "source": [
    "Its important to know difference in handoffs and agent_as_tools.\n",
    "- With tools, control passes back\n",
    "- With handoffs, control passes across"
   ]
  },
  {
   "cell_type": "code",
   "execution_count": null,
   "id": "591df9a4",
   "metadata": {},
   "outputs": [],
   "source": [
    "# Build an emailer_agent that can generate email and send it\n",
    "print('''\n",
    "- 3 agents/tools to generate email\n",
    "- 1 agent/tool to select the best email\n",
    "- 1 agent/tool to decide the subject\n",
    "- 1 agent/tool to convert text to html\n",
    "- 1 tool to send the email\n",
    "''')"
   ]
  },
  {
   "cell_type": "code",
   "execution_count": null,
   "id": "cdec7f12",
   "metadata": {},
   "outputs": [],
   "source": [
    "from typing import Dict\n"
   ]
  },
  {
   "cell_type": "code",
   "execution_count": null,
   "id": "6eeb7a89",
   "metadata": {},
   "outputs": [],
   "source": [
    "send_email_tool"
   ]
  },
  {
   "cell_type": "code",
   "execution_count": null,
   "id": "41dd9a1e",
   "metadata": {},
   "outputs": [],
   "source": [
    "instruction_for_agent_1 = '''\n",
    "You work for PKAI company, you are an expert in writing professional cold emails.'''\n",
    "instruction_for_agent_2 = '''\n",
    "You work for PKAI company you are an expert in writing humorous cold emails'''\n",
    "instruction_for_agent_3 = '''\n",
    "You work for PKAI company you are an expert in writing concise cold emails'''\n",
    "instruction_for_subject_writer = '''\n",
    "You are an expert in writing subject for emails'''\n",
    "instruction_for_html_writer = '''\n",
    "You are an expert in converting text to html'''\n",
    "\n",
    "@function_tool\n",
    "def send_email(subject:str, body:str) -> Dict[str, str]:\n",
    "    sg_client = sendgrid.SendGridAPIClient(api_key=os.getenv(\"SENDGRID_API_KEY\"))\n",
    "    from_email = Email(\"hello@priyanshukhandelwal.com\")\n",
    "    to_email = To(\"udemy@priyanshukhandelwal.com\")\n",
    "    content = Content(\"text/html\", body)\n",
    "    mail = Mail(from_email, to_email, subject, content).get()\n",
    "    response = sg_client.send(mail)\n",
    "    print(f\"Email sent with status code: {response.status_code}\")\n",
    "\n",
    "agent_1_tool = Agent(name='agent_1', instructions=instruction_for_agent_1, model='gpt-4o-mini').as_tool(tool_name='agent_1_tool', tool_description='Write a cold email') \n",
    "agent_2_tool = Agent(name='agent_2', instructions=instruction_for_agent_2, model='gpt-4o-mini').as_tool(tool_name='agent_2_tool', tool_description='Write a cold email')\n",
    "agent_3_tool = Agent(name='agent_3', instructions=instruction_for_agent_3, model='gpt-4o-mini').as_tool(tool_name='agent_3_tool', tool_description='Write a cold email')\n",
    "subject_writer_tool = Agent(name='subject_writer', instructions=instruction_for_subject_writer, model='gpt-4o-mini').as_tool(tool_name='subject_writer_tool', tool_description='Write a subject')\n",
    "html_writer_tool = Agent(name='html_writer', instructions=instruction_for_html_writer, model='gpt-4o-mini').as_tool(tool_name='html_writer_tool', tool_description='Convert text to html')\n",
    "send_email_tool = send_email\n",
    "tools = [agent_1_tool, agent_2_tool, agent_3_tool, subject_writer_tool, html_writer_tool, send_email_tool]\n",
    "\n",
    "sales_manager_instructions = '''\n",
    "You are a sales manager for PKAI. You use the tools give to you to generate cold emails.\n",
    "You never generate sales emails by yourself; you always use tools.\n",
    "You try all 3 agent_tools once before choosing the best one. You can use tools iteratively untill you find a best email to send.\n",
    "You pick the single best email. Then you decide the subject of the email using subject_writer tool.Then you use html_writer tool to convert the text to html.\n",
    "Only use the subject decided by subject_writer_tool, remove if there is any additional subject in the email.\n",
    "Then you use send_email_tool to send the email to the user.\n",
    "'''\n",
    "\n",
    "sales_manager_agent = Agent(name='Sales Manager', instructions=sales_manager_instructions, model='gpt-4o-mini', tools=tools)\n",
    "message = 'Send a cold email addressed to Dear Senior Head of AI'\n",
    "with trace('Generate, select body, convert to html and send email: Sales Manager Agent '):\n",
    "    result = await Runner.run(sales_manager_agent, message)\n",
    "    print(result.final_output)\n"
   ]
  },
  {
   "cell_type": "code",
   "execution_count": null,
   "id": "2a7b0bfb",
   "metadata": {},
   "outputs": [],
   "source": [
    "# research how you can have SendGrid call a Callback webhook when a user replies to an email, Then have the SDR respond to keep the conversation going\n",
    "\n",
    "# TODO : Priyanshu to do this later"
   ]
  },
  {
   "cell_type": "code",
   "execution_count": null,
   "id": "16683477",
   "metadata": {},
   "outputs": [],
   "source": []
  }
 ],
 "metadata": {
  "kernelspec": {
   "display_name": "agents",
   "language": "python",
   "name": "python3"
  },
  "language_info": {
   "codemirror_mode": {
    "name": "ipython",
    "version": 3
   },
   "file_extension": ".py",
   "mimetype": "text/x-python",
   "name": "python",
   "nbconvert_exporter": "python",
   "pygments_lexer": "ipython3",
   "version": "3.12.11"
  }
 },
 "nbformat": 4,
 "nbformat_minor": 5
}
