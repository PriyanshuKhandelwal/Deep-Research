{
 "cells": [
  {
   "cell_type": "code",
   "execution_count": 1,
   "id": "cb621f36",
   "metadata": {},
   "outputs": [],
   "source": [
    "from dotenv import load_dotenv\n",
    "from agents import Agent, Runner, trace"
   ]
  },
  {
   "cell_type": "code",
   "execution_count": 2,
   "id": "0c61e4b6",
   "metadata": {},
   "outputs": [
    {
     "data": {
      "text/plain": [
       "True"
      ]
     },
     "execution_count": 2,
     "metadata": {},
     "output_type": "execute_result"
    }
   ],
   "source": [
    "load_dotenv(override=True)"
   ]
  },
  {
   "cell_type": "code",
   "execution_count": 4,
   "id": "96f705e6",
   "metadata": {},
   "outputs": [],
   "source": [
    "import agents"
   ]
  },
  {
   "cell_type": "code",
   "execution_count": 5,
   "id": "094c6296",
   "metadata": {},
   "outputs": [
    {
     "data": {
      "text/plain": [
       "<module 'agents' from '/Users/priyanshukhandelwal/Desktop/Learning-Building/Building/Agents/AgentsCourseEdDonner/Deep-Research/.venv/lib/python3.12/site-packages/agents/__init__.py'>"
      ]
     },
     "execution_count": 5,
     "metadata": {},
     "output_type": "execute_result"
    }
   ],
   "source": [
    "agents"
   ]
  },
  {
   "cell_type": "code",
   "execution_count": null,
   "id": "f8a05dc4",
   "metadata": {},
   "outputs": [],
   "source": [
    "# lets make an agent with name, instructions and model\n",
    "agent = Agent(\n",
    "    name=\"Fact-Writer\",\n",
    "    instructions=\"\"\"You are a fact writer agent. Your task is to write facts about a given topic\"\n",
    "    \"\"\",\n",
    "    model=\"gpt-4o-mini\",\n",
    "    \n",
    ")"
   ]
  },
  {
   "cell_type": "code",
   "execution_count": 18,
   "id": "b559cbfe",
   "metadata": {},
   "outputs": [
    {
     "name": "stdout",
     "output_type": "stream",
     "text": [
      "The Sun accounts for about 99.86% of the total mass of the entire solar system, making it the dominant gravitational force that holds the planets, moons, asteroids, and comets in orbit around it.\n"
     ]
    }
   ],
   "source": [
    "runner = Runner()\n",
    "result = await runner.run(agent,\"Tell me one unique fact about the sun\")\n",
    "print(result.final_output)"
   ]
  },
  {
   "cell_type": "code",
   "execution_count": 20,
   "id": "02c0283a",
   "metadata": {},
   "outputs": [
    {
     "name": "stdout",
     "output_type": "stream",
     "text": [
      "One unique fact about Earth is that it is the only known planet in the universe that has liquid water on its surface, covering about 71% of the planet. This availability of liquid water is crucial for supporting diverse forms of life.\n"
     ]
    }
   ],
   "source": [
    "# lets make it with trace\n",
    "with trace('Fact-Writer'):\n",
    "    runner = Runner()\n",
    "    result = await runner.run(agent, \"Tell me one unique fact about the earth\")\n",
    "    print(result.final_output)"
   ]
  },
  {
   "cell_type": "markdown",
   "id": "adb12efa",
   "metadata": {},
   "source": [
    "https://platform.openai.com/traces"
   ]
  },
  {
   "cell_type": "markdown",
   "id": "82822c7b",
   "metadata": {},
   "source": []
  }
 ],
 "metadata": {
  "kernelspec": {
   "display_name": "agents",
   "language": "python",
   "name": "python3"
  },
  "language_info": {
   "codemirror_mode": {
    "name": "ipython",
    "version": 3
   },
   "file_extension": ".py",
   "mimetype": "text/x-python",
   "name": "python",
   "nbconvert_exporter": "python",
   "pygments_lexer": "ipython3",
   "version": "3.12.11"
  }
 },
 "nbformat": 4,
 "nbformat_minor": 5
}
