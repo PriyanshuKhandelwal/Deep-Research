{
 "cells": [
  {
   "cell_type": "code",
   "execution_count": null,
   "id": "68556ae6",
   "metadata": {},
   "outputs": [],
   "source": [
    "from dotenv import load_dotenv\n",
    "from openai import AsyncOpenAI\n",
    "from agents import Agent, Runner, trace, function_tool, OpenAIChatCompletionsModel\n",
    "import sendgrid\n",
    "import os\n",
    "from sendgrid.helpers.mail import Mail, Email, To, Content\n",
    "from pydantic import BaseModel\n",
    "from typing import Dict"
   ]
  },
  {
   "cell_type": "code",
   "execution_count": 2,
   "id": "af26e788",
   "metadata": {},
   "outputs": [
    {
     "data": {
      "text/plain": [
       "True"
      ]
     },
     "execution_count": 2,
     "metadata": {},
     "output_type": "execute_result"
    }
   ],
   "source": [
    "load_dotenv(override=True)"
   ]
  },
  {
   "cell_type": "code",
   "execution_count": 6,
   "id": "9df2eea8",
   "metadata": {},
   "outputs": [],
   "source": [
    "openai_api_key = os.getenv('OPENAI_API_KEY')\n",
    "deepseek_api_key = os.getenv('DEEPSEEK_API_KEY')\n",
    "llma_api_key = os.getenv('LLAMA_API_KEY')"
   ]
  },
  {
   "cell_type": "code",
   "execution_count": 7,
   "id": "4875089b",
   "metadata": {},
   "outputs": [],
   "source": [
    "DEEPSEEK_BASE_URL = \"https://api.deepseek.com/v1\"\n",
    "LLMA_BASE_URL = \"http://localhost:11434/v1\""
   ]
  },
  {
   "cell_type": "code",
   "execution_count": 9,
   "id": "4eaa091c",
   "metadata": {},
   "outputs": [],
   "source": [
    "deepseek_model_name = 'deepseek-chat'\n",
    "llma_model_name = 'llama3.2'"
   ]
  },
  {
   "cell_type": "code",
   "execution_count": 8,
   "id": "78b1cc0d",
   "metadata": {},
   "outputs": [],
   "source": [
    "deepseek_client = AsyncOpenAI(\n",
    "    base_url = DEEPSEEK_BASE_URL, \n",
    "    api_key = deepseek_api_key\n",
    ")\n",
    "\n",
    "llma_client = AsyncOpenAI(\n",
    "    base_url = LLMA_BASE_URL,\n",
    "    api_key = llma_api_key\n",
    ")"
   ]
  },
  {
   "cell_type": "code",
   "execution_count": 13,
   "id": "200ad6a4",
   "metadata": {},
   "outputs": [],
   "source": [
    "deepseek_model = OpenAIChatCompletionsModel(model=deepseek_model_name, openai_client=deepseek_client)\n",
    "llma_model = OpenAIChatCompletionsModel(model=llma_model_name, openai_client=llma_client)"
   ]
  },
  {
   "cell_type": "code",
   "execution_count": 14,
   "id": "19f8fd7b",
   "metadata": {},
   "outputs": [],
   "source": [
    "instructions1 = \"You are witty sales agent for PKAI. You write professional and mindful emails\"\n",
    "instructions2 = \"You are humorous sales agent for PKAI. You write professional and likely to get response emails\"\n",
    "instructions3 = \"You are busy sales agent for PKAI. You write professional and concise emails\"\n",
    "agent1 = Agent(name=\"Agent 1\", instructions=instructions1, model=\"gpt-4o-mini\")\n",
    "agent2 = Agent(name=\"Agent 2\", instructions=instructions2, model=deepseek_model)\n",
    "agent3 = Agent(name=\"Agent 3\", instructions=instructions3, model=llma_model)"
   ]
  },
  {
   "cell_type": "code",
   "execution_count": null,
   "id": "db7767ae",
   "metadata": {},
   "outputs": [],
   "source": [
    "agent1_tool = agent1.as_tool(tool_name='agent_1_tool', tool_description='Write a cold email')\n",
    "agent2_tool = agent2.as_tool(tool_name='agent_2_tool', tool_description='Write a cold email')\n",
    "agent3_tool = agent3.as_tool(tool_name='agent_3_tool', tool_description='Write a cold email')"
   ]
  },
  {
   "cell_type": "code",
   "execution_count": 16,
   "id": "bfb07c8a",
   "metadata": {},
   "outputs": [
    {
     "ename": "NameError",
     "evalue": "name 'Dict' is not defined",
     "output_type": "error",
     "traceback": [
      "\u001b[31m---------------------------------------------------------------------------\u001b[39m",
      "\u001b[31mNameError\u001b[39m                                 Traceback (most recent call last)",
      "\u001b[36mCell\u001b[39m\u001b[36m \u001b[39m\u001b[32mIn[16]\u001b[39m\u001b[32m, line 2\u001b[39m\n\u001b[32m      1\u001b[39m \u001b[38;5;129m@function_tool\u001b[39m\n\u001b[32m----> \u001b[39m\u001b[32m2\u001b[39m \u001b[38;5;28;01mdef\u001b[39;00m\u001b[38;5;250m \u001b[39m\u001b[34msend_email\u001b[39m(subject:\u001b[38;5;28mstr\u001b[39m, html_body:\u001b[38;5;28mstr\u001b[39m) -> \u001b[43mDict\u001b[49m[\u001b[38;5;28mstr\u001b[39m, \u001b[38;5;28mstr\u001b[39m]:\n\u001b[32m      3\u001b[39m     sg_client = sendgrid.SendGridAPIClient(api_key=os.getenv(\u001b[33m\"\u001b[39m\u001b[33mSENDGRID_API_KEY\u001b[39m\u001b[33m\"\u001b[39m))\n\u001b[32m      4\u001b[39m     from_email = Email(\u001b[33m\"\u001b[39m\u001b[33mhello@priyanshukhandelwal.com\u001b[39m\u001b[33m\"\u001b[39m)\n",
      "\u001b[31mNameError\u001b[39m: name 'Dict' is not defined"
     ]
    }
   ],
   "source": [
    "@function_tool\n",
    "def send_email(subject:str, html_body:str) -> Dict[str, str]:\n",
    "    sg_client = sendgrid.SendGridAPIClient(api_key=os.getenv(\"SENDGRID_API_KEY\"))\n",
    "    from_email = Email(\"hello@priyanshukhandelwal.com\")\n",
    "    to_email = To(\"udemy@priyanshukhandelwal.com\")\n",
    "    content = Content(\"text/html\", html_body)\n",
    "    mail = Mail(from_email, to_email, subject, content).get()\n",
    "    response = sg_client.send(mail)\n",
    "    print(f\"Email sent with status code: {response.status_code}\")\n",
    "    return response"
   ]
  }
 ],
 "metadata": {
  "kernelspec": {
   "display_name": "agents",
   "language": "python",
   "name": "python3"
  },
  "language_info": {
   "codemirror_mode": {
    "name": "ipython",
    "version": 3
   },
   "file_extension": ".py",
   "mimetype": "text/x-python",
   "name": "python",
   "nbconvert_exporter": "python",
   "pygments_lexer": "ipython3",
   "version": "3.12.11"
  }
 },
 "nbformat": 4,
 "nbformat_minor": 5
}
